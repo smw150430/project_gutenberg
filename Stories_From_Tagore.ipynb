{
 "cells": [
  {
   "cell_type": "markdown",
   "metadata": {},
   "source": [
    "## NLP Exercise from learn.co"
   ]
  },
  {
   "cell_type": "markdown",
   "metadata": {},
   "source": [
    "## Loading Libraries and Preliminary Analysis \n",
    "Given that this is a collection of short stories, greater care would need to be employed when addressing each story individually as well as accounting for whatever text might exist between each story, but the purpose of this notebook is to practice employment of NLP techniques."
   ]
  },
  {
   "cell_type": "code",
   "execution_count": 1,
   "metadata": {},
   "outputs": [],
   "source": [
    "import nltk\n",
    "import requests\n",
    "import sklearn"
   ]
  },
  {
   "cell_type": "code",
   "execution_count": 2,
   "metadata": {},
   "outputs": [],
   "source": [
    "resp = requests.get('https://www.gutenberg.org/files/33525/33525-0.txt')\n",
    "stories = resp.text"
   ]
  },
  {
   "cell_type": "code",
   "execution_count": 3,
   "metadata": {},
   "outputs": [
    {
     "name": "stdout",
     "output_type": "stream",
     "text": [
      "ï»¿The Project Gutenberg EBook of Stories from Tagore, by Rabindranath Tagore\r\n",
      "\r\n",
      "This eBook is for the use of anyone anywhere at no cost and with\r\n",
      "almost no restrictions whatsoever.  You may copy it, give it away or\r\n",
      "re-use it under the terms of the Project Gutenberg License included\r\n",
      "with this eBook or online at www.gutenberg.org\r\n",
      "\r\n",
      "\r\n",
      "Title: Stories from Tagore\r\n",
      "\r\n",
      "Author: Rabindranath Tagore\r\n",
      "\r\n",
      "Release Date: August 24, 2010 [EBook #33525]\r\n",
      "\r\n",
      "Language: English\r\n",
      "\r\n",
      "Character set encoding: UTF-8\r\n",
      "\r\n",
      "*** START OF THIS PROJECT GUTENBERG EBOOK STORIES FROM TAGORE ***\r\n",
      "\r\n",
      "\r\n",
      "\r\n",
      "\r\n",
      "Produced by Audrey Longhurst, Asad Razzaki and the Online\r\n",
      "Distributed Proofreading Team at http://www.pgdp.net\r\n",
      "\r\n",
      "\r\n",
      "\r\n",
      "\r\n",
      "\r\n",
      "Transcriber's Note:\r\n",
      "\r\n",
      "\r\n",
      "  Variations in spelling and hyphenation have been retained as in\r\n",
      "    the original.\r\n",
      "\r\n",
      "  A few typographical errors have been corrected. A complete list\r\n",
      "    follows the text.\r\n",
      "\r\n",
      "  Words italicized in the original are surrounded by _underscores_.\r\n",
      "\r\n",
      "  Words with bold emphasis in the original are surrounded by =equals\r\n",
      "    signs=.\r\n",
      "\r\n",
      "\r\n",
      "\r\n",
      "\r\n",
      "             STORIES FROM TAGORE\r\n",
      "\r\n",
      "\r\n",
      "               [Illustration]\r\n",
      "\r\n",
      "            THE MACMILLAN COMPANY\r\n",
      "\r\n",
      "      NEW YORK Â· BOSTON Â· CHICAGO Â· DALLAS\r\n",
      "           ATLANTA Â· SAN FRANCISCO\r\n",
      "\r\n",
      "           MACMILLAN & CO., LIMITED\r\n",
      "\r\n",
      "          LONDON Â· BOMBAY Â· CALCUTTA\r\n",
      "                 MELBOURNE\r\n",
      "\r\n",
      "        THE MACMILLAN CO. OF CANADA, LTD.\r\n",
      "\r\n",
      "                  TORONTO\r\n",
      "\r\n",
      "\r\n",
      "\r\n",
      "\r\n",
      "              Stories from Tagore\r\n",
      "\r\n",
      "\r\n",
      "                   New York\r\n",
      "             The Macmillan Company\r\n",
      "                     1918\r\n",
      "\r\n",
      "             _All rights reserved_\r\n",
      "\r\n",
      "\r\n",
      "            Copyright 1916 and 1918\r\n",
      "            BY THE MACMILLAN COMPANY\r\n",
      "\r\n",
      "  Set up and electrotyped. Published, October, 1918\r\n",
      "\r\n",
      "\r\n",
      "\r\n",
      "\r\n",
      "\n"
     ]
    }
   ],
   "source": [
    "print(stories[:1760])"
   ]
  },
  {
   "cell_type": "code",
   "execution_count": 4,
   "metadata": {},
   "outputs": [
    {
     "name": "stdout",
     "output_type": "stream",
     "text": [
      "PREFACE\r\n",
      "\r\n",
      "\r\n",
      "Every experienced teacher must have noticed the difficulty of\r\n",
      "instructing Indian children out of books that are specially intended for\r\n",
      "use in English schools. It is not merely that the subjects are\r\n",
      "unfamiliar, but almost eve\n"
     ]
    }
   ],
   "source": [
    "print(stories[1760:2000])"
   ]
  },
  {
   "cell_type": "code",
   "execution_count": 5,
   "metadata": {},
   "outputs": [
    {
     "name": "stdout",
     "output_type": "stream",
     "text": [
      "['PREFACE', 'Every', 'experienced', 'teacher', 'must', 'have', 'noticed', 'the', 'difficulty', 'of', 'instructing', 'Indian', 'children', 'out', 'of', 'books', 'that', 'are', 'specially', 'intended', 'for', 'use', 'in', 'English', 'schools', 'It', 'is', 'not', 'merely', 'that', 'the', 'subjects', 'are', 'unfamiliar', 'but', 'almost', 'every', 'phrase', 'has', 'English', 'associations', 'that', 'are', 'strange', 'to', 'Indian', 'ears', 'The', 'environment', 'in', 'which', 'they', 'are', 'written', 'is', 'unknown', 'to', 'the', 'Indian', 'school', 'boy', 'and', 'his', 'mind', 'becomes', 'overburdened', 'with', 'its', 'details', 'which', 'he', 'fails', 'to', 'understand', 'He', 'cannot', 'give', 'his', 'whole', 'attention', 'to', 'the', 'language', 'and', 'thus', 'master', 'it', 'quickly', 'The', 'present', 'Indian', 'story', 'book', 'avoids', 'some', 'at', 'least', 'of', 'these', 'impediments']\n"
     ]
    }
   ],
   "source": [
    "pattern = \"([a-zA-Z]+(?:'[a-z]+)?)\"\n",
    "stories_tokens_raw = nltk.regexp_tokenize(stories[1760:], pattern)\n",
    "print(stories_tokens_raw[:100])"
   ]
  },
  {
   "cell_type": "code",
   "execution_count": 6,
   "metadata": {},
   "outputs": [
    {
     "name": "stdout",
     "output_type": "stream",
     "text": [
      "['preface', 'every', 'experienced', 'teacher', 'must', 'have', 'noticed', 'the', 'difficulty', 'of', 'instructing', 'indian', 'children', 'out', 'of', 'books', 'that', 'are', 'specially', 'intended', 'for', 'use', 'in', 'english', 'schools', 'it', 'is', 'not', 'merely', 'that', 'the', 'subjects', 'are', 'unfamiliar', 'but', 'almost', 'every', 'phrase', 'has', 'english', 'associations', 'that', 'are', 'strange', 'to', 'indian', 'ears', 'the', 'environment', 'in', 'which', 'they', 'are', 'written', 'is', 'unknown', 'to', 'the', 'indian', 'school', 'boy', 'and', 'his', 'mind', 'becomes', 'overburdened', 'with', 'its', 'details', 'which', 'he', 'fails', 'to', 'understand', 'he', 'cannot', 'give', 'his', 'whole', 'attention', 'to', 'the', 'language', 'and', 'thus', 'master', 'it', 'quickly', 'the', 'present', 'indian', 'story', 'book', 'avoids', 'some', 'at', 'least', 'of', 'these', 'impediments']\n"
     ]
    }
   ],
   "source": [
    "stories_tokens = [i.lower() for i in stories_tokens_raw]\n",
    "print(stories_tokens[:100])"
   ]
  },
  {
   "cell_type": "code",
   "execution_count": 7,
   "metadata": {},
   "outputs": [
    {
     "name": "stderr",
     "output_type": "stream",
     "text": [
      "[nltk_data] Downloading package stopwords to\n",
      "[nltk_data]     C:\\Users\\sleep\\AppData\\Roaming\\nltk_data...\n",
      "[nltk_data]   Package stopwords is already up-to-date!\n"
     ]
    },
    {
     "data": {
      "text/plain": [
       "True"
      ]
     },
     "execution_count": 7,
     "metadata": {},
     "output_type": "execute_result"
    }
   ],
   "source": [
    "nltk.download('stopwords')"
   ]
  },
  {
   "cell_type": "markdown",
   "metadata": {},
   "source": [
    "## Obtaining and Utilizing Stopwords"
   ]
  },
  {
   "cell_type": "code",
   "execution_count": 8,
   "metadata": {},
   "outputs": [
    {
     "data": {
      "text/plain": [
       "['i',\n",
       " 'me',\n",
       " 'my',\n",
       " 'myself',\n",
       " 'we',\n",
       " 'our',\n",
       " 'ours',\n",
       " 'ourselves',\n",
       " 'you',\n",
       " \"you're\",\n",
       " \"you've\",\n",
       " \"you'll\",\n",
       " \"you'd\",\n",
       " 'your',\n",
       " 'yours',\n",
       " 'yourself',\n",
       " 'yourselves',\n",
       " 'he',\n",
       " 'him',\n",
       " 'his',\n",
       " 'himself',\n",
       " 'she',\n",
       " \"she's\",\n",
       " 'her',\n",
       " 'hers',\n",
       " 'herself',\n",
       " 'it',\n",
       " \"it's\",\n",
       " 'its',\n",
       " 'itself',\n",
       " 'they',\n",
       " 'them',\n",
       " 'their',\n",
       " 'theirs',\n",
       " 'themselves',\n",
       " 'what',\n",
       " 'which',\n",
       " 'who',\n",
       " 'whom',\n",
       " 'this',\n",
       " 'that',\n",
       " \"that'll\",\n",
       " 'these',\n",
       " 'those',\n",
       " 'am',\n",
       " 'is',\n",
       " 'are',\n",
       " 'was',\n",
       " 'were',\n",
       " 'be',\n",
       " 'been',\n",
       " 'being',\n",
       " 'have',\n",
       " 'has',\n",
       " 'had',\n",
       " 'having',\n",
       " 'do',\n",
       " 'does',\n",
       " 'did',\n",
       " 'doing',\n",
       " 'a',\n",
       " 'an',\n",
       " 'the',\n",
       " 'and',\n",
       " 'but',\n",
       " 'if',\n",
       " 'or',\n",
       " 'because',\n",
       " 'as',\n",
       " 'until',\n",
       " 'while',\n",
       " 'of',\n",
       " 'at',\n",
       " 'by',\n",
       " 'for',\n",
       " 'with',\n",
       " 'about',\n",
       " 'against',\n",
       " 'between',\n",
       " 'into',\n",
       " 'through',\n",
       " 'during',\n",
       " 'before',\n",
       " 'after',\n",
       " 'above',\n",
       " 'below',\n",
       " 'to',\n",
       " 'from',\n",
       " 'up',\n",
       " 'down',\n",
       " 'in',\n",
       " 'out',\n",
       " 'on',\n",
       " 'off',\n",
       " 'over',\n",
       " 'under',\n",
       " 'again',\n",
       " 'further',\n",
       " 'then',\n",
       " 'once',\n",
       " 'here',\n",
       " 'there',\n",
       " 'when',\n",
       " 'where',\n",
       " 'why',\n",
       " 'how',\n",
       " 'all',\n",
       " 'any',\n",
       " 'both',\n",
       " 'each',\n",
       " 'few',\n",
       " 'more',\n",
       " 'most',\n",
       " 'other',\n",
       " 'some',\n",
       " 'such',\n",
       " 'no',\n",
       " 'nor',\n",
       " 'not',\n",
       " 'only',\n",
       " 'own',\n",
       " 'same',\n",
       " 'so',\n",
       " 'than',\n",
       " 'too',\n",
       " 'very',\n",
       " 's',\n",
       " 't',\n",
       " 'can',\n",
       " 'will',\n",
       " 'just',\n",
       " 'don',\n",
       " \"don't\",\n",
       " 'should',\n",
       " \"should've\",\n",
       " 'now',\n",
       " 'd',\n",
       " 'll',\n",
       " 'm',\n",
       " 'o',\n",
       " 're',\n",
       " 've',\n",
       " 'y',\n",
       " 'ain',\n",
       " 'aren',\n",
       " \"aren't\",\n",
       " 'couldn',\n",
       " \"couldn't\",\n",
       " 'didn',\n",
       " \"didn't\",\n",
       " 'doesn',\n",
       " \"doesn't\",\n",
       " 'hadn',\n",
       " \"hadn't\",\n",
       " 'hasn',\n",
       " \"hasn't\",\n",
       " 'haven',\n",
       " \"haven't\",\n",
       " 'isn',\n",
       " \"isn't\",\n",
       " 'ma',\n",
       " 'mightn',\n",
       " \"mightn't\",\n",
       " 'mustn',\n",
       " \"mustn't\",\n",
       " 'needn',\n",
       " \"needn't\",\n",
       " 'shan',\n",
       " \"shan't\",\n",
       " 'shouldn',\n",
       " \"shouldn't\",\n",
       " 'wasn',\n",
       " \"wasn't\",\n",
       " 'weren',\n",
       " \"weren't\",\n",
       " 'won',\n",
       " \"won't\",\n",
       " 'wouldn',\n",
       " \"wouldn't\"]"
      ]
     },
     "execution_count": 8,
     "metadata": {},
     "output_type": "execute_result"
    }
   ],
   "source": [
    "from nltk.corpus import stopwords\n",
    "stopwords.words(\"english\")"
   ]
  },
  {
   "cell_type": "code",
   "execution_count": 9,
   "metadata": {},
   "outputs": [
    {
     "name": "stdout",
     "output_type": "stream",
     "text": [
      "['preface', 'every', 'experienced', 'teacher', 'must', 'noticed', 'difficulty', 'instructing', 'indian', 'children', 'books', 'specially', 'intended', 'use', 'english', 'schools', 'merely', 'subjects', 'unfamiliar', 'almost', 'every', 'phrase', 'english', 'associations', 'strange', 'indian', 'ears', 'environment', 'written', 'unknown', 'indian', 'school', 'boy', 'mind', 'becomes', 'overburdened', 'details', 'fails', 'understand', 'cannot', 'give', 'whole', 'attention', 'language', 'thus', 'master', 'quickly', 'present', 'indian', 'story', 'book', 'avoids', 'least', 'impediments', 'surroundings', 'described', 'students', 'everyday', 'life', 'sentiments', 'characters', 'familiar', 'stories', 'simply', 'told', 'notes', 'end', 'sufficient', 'explain', 'obscure', 'passages', 'possible', 'indian', 'student', 'follow', 'pages', 'book', 'easily', 'intelligently', 'students', 'read', 'stories', 'original', 'advantage', 'knowing', 'beforehand', 'whole', 'trend', 'narrative', 'thus', 'able', 'concentrate', 'thoughts', 'english', 'language', 'proposed', 'publish', 'together', 'single', 'volume']\n"
     ]
    }
   ],
   "source": [
    "stop_words = set(stopwords.words('english'))\n",
    "stories_tokens_stopped = [w for w in stories_tokens if not w in stop_words]\n",
    "print(stories_tokens_stopped[:100])"
   ]
  },
  {
   "cell_type": "markdown",
   "metadata": {},
   "source": [
    "## Stemming and Lemmatizing"
   ]
  },
  {
   "cell_type": "code",
   "execution_count": 10,
   "metadata": {},
   "outputs": [],
   "source": [
    "from nltk.stem import PorterStemmer, SnowballStemmer\n",
    "porter_stemmer = PorterStemmer()\n",
    "snowball_stemmer = SnowballStemmer('english')"
   ]
  },
  {
   "cell_type": "code",
   "execution_count": 11,
   "metadata": {},
   "outputs": [
    {
     "name": "stdout",
     "output_type": "stream",
     "text": [
      "prefac everi experienc teacher must notic difficulti instruct indian children book special intend use english school mere subject unfamiliar almost everi phrase english associ strang indian ear environ written unknown indian school boy mind becom overburden detail fail understand cannot give whole attent languag thu master quickli present indian stori book avoid least impedi surround describ student everyday life sentiment charact familiar stori simpli told note end suffici explain obscur passag possibl indian student follow page book easili intellig student read stori origin advantag know beforehand whole trend narr thu abl concentr thought english languag propos publish togeth singl volum\n"
     ]
    }
   ],
   "source": [
    "example = [porter_stemmer.stem(e) for e in stories_tokens_stopped[:100]]\n",
    "print(*example)"
   ]
  },
  {
   "cell_type": "code",
   "execution_count": 12,
   "metadata": {},
   "outputs": [
    {
     "name": "stdout",
     "output_type": "stream",
     "text": [
      "prefac everi experienc teacher must notic difficulti instruct indian children book special intend use english school mere subject unfamiliar almost everi phrase english associ strang indian ear environ written unknown indian school boy mind becom overburden detail fail understand cannot give whole attent languag thus master quick present indian stori book avoid least impedi surround describ student everyday life sentiment charact familiar stori simpli told note end suffici explain obscur passag possibl indian student follow page book easili intellig student read stori origin advantag know beforehand whole trend narrat thus abl concentr thought english languag propos publish togeth singl volum\n"
     ]
    }
   ],
   "source": [
    "print(*[snowball_stemmer.stem(w) for w in stories_tokens_stopped[:100]])"
   ]
  },
  {
   "cell_type": "code",
   "execution_count": 13,
   "metadata": {},
   "outputs": [],
   "source": [
    "from nltk.stem import WordNetLemmatizer\n",
    "lemmatizer = WordNetLemmatizer()"
   ]
  },
  {
   "cell_type": "code",
   "execution_count": 14,
   "metadata": {},
   "outputs": [],
   "source": [
    "from nltk.corpus import wordnet\n",
    "def get_wordnet_pos(tag):\n",
    "\n",
    "    if tag.startswith('J'):\n",
    "        return wordnet.ADJ\n",
    "    elif tag.startswith('V'):\n",
    "        return wordnet.VERB\n",
    "    elif tag.startswith('N'):\n",
    "        return wordnet.NOUN\n",
    "    elif tag.startswith('R'):\n",
    "        return wordnet.ADV\n",
    "    else:\n",
    "        return 'n'"
   ]
  },
  {
   "cell_type": "code",
   "execution_count": 15,
   "metadata": {},
   "outputs": [
    {
     "name": "stderr",
     "output_type": "stream",
     "text": [
      "[nltk_data] Downloading package averaged_perceptron_tagger to\n",
      "[nltk_data]     C:\\Users\\sleep\\AppData\\Roaming\\nltk_data...\n",
      "[nltk_data]   Package averaged_perceptron_tagger is already up-to-\n",
      "[nltk_data]       date!\n"
     ]
    },
    {
     "data": {
      "text/plain": [
       "True"
      ]
     },
     "execution_count": 15,
     "metadata": {},
     "output_type": "execute_result"
    }
   ],
   "source": [
    "nltk.download('averaged_perceptron_tagger')"
   ]
  },
  {
   "cell_type": "code",
   "execution_count": 16,
   "metadata": {},
   "outputs": [
    {
     "data": {
      "text/plain": [
       "[('preface', 'NN'),\n",
       " ('every', 'DT'),\n",
       " ('experienced', 'VBD'),\n",
       " ('teacher', 'NN'),\n",
       " ('must', 'MD'),\n",
       " ('noticed', 'VB'),\n",
       " ('difficulty', 'NN'),\n",
       " ('instructing', 'VBG'),\n",
       " ('indian', 'JJ'),\n",
       " ('children', 'NNS')]"
      ]
     },
     "execution_count": 16,
     "metadata": {},
     "output_type": "execute_result"
    }
   ],
   "source": [
    "nltk.pos_tag(stories_tokens_stopped)[:10]"
   ]
  },
  {
   "cell_type": "code",
   "execution_count": 17,
   "metadata": {},
   "outputs": [
    {
     "name": "stderr",
     "output_type": "stream",
     "text": [
      "[nltk_data] Downloading package wordnet to\n",
      "[nltk_data]     C:\\Users\\sleep\\AppData\\Roaming\\nltk_data...\n",
      "[nltk_data]   Package wordnet is already up-to-date!\n"
     ]
    },
    {
     "data": {
      "text/plain": [
       "True"
      ]
     },
     "execution_count": 17,
     "metadata": {},
     "output_type": "execute_result"
    }
   ],
   "source": [
    "nltk.download('wordnet')"
   ]
  },
  {
   "cell_type": "code",
   "execution_count": 18,
   "metadata": {},
   "outputs": [],
   "source": [
    "stories_lemmas_pos = []\n",
    "for x, y in nltk.pos_tag(stories_tokens_stopped):\n",
    "    stories_lemmas_pos.append((x, get_wordnet_pos(y)))"
   ]
  },
  {
   "cell_type": "markdown",
   "metadata": {},
   "source": [
    "### Can now compare the lemmatized words to the unlemmatized"
   ]
  },
  {
   "cell_type": "code",
   "execution_count": 19,
   "metadata": {},
   "outputs": [
    {
     "name": "stdout",
     "output_type": "stream",
     "text": [
      "('original', 'original')\n",
      "('stories', 'story')\n",
      "('whose', 'whose')\n",
      "('english', 'english')\n",
      "('translations', 'translation')\n",
      "('given', 'give')\n",
      "('reader', 'reader')\n",
      "('versions', 'version')\n",
      "('stories', 'story')\n",
      "('different', 'different')\n",
      "('indian', 'indian')\n",
      "('vernaculars', 'vernacular')\n",
      "('already', 'already')\n",
      "('appeared', 'appear')\n",
      "('others', 'others')\n",
      "('likely', 'likely')\n",
      "('follow', 'follow')\n",
      "('two', 'two')\n",
      "('longest', 'long')\n",
      "('stories', 'story')\n",
      "('book', 'book')\n",
      "('master', 'master')\n",
      "('mashai', 'mashai')\n",
      "('son', 'son')\n",
      "('rashmani', 'rashmani')\n",
      "('reproduced', 'reproduce')\n",
      "('english', 'english')\n",
      "('first', 'first')\n",
      "('time', 'time')\n",
      "('rest', 'rest')\n",
      "('stories', 'story')\n",
      "('taken', 'take')\n",
      "('slight', 'slight')\n",
      "('revision', 'revision')\n",
      "('two', 'two')\n",
      "('english', 'english')\n",
      "('volumes', 'volume')\n",
      "('entitled', 'entitle')\n",
      "('hungry', 'hungry')\n",
      "('stones', 'stone')\n",
      "('mashi', 'mashi')\n",
      "('short', 'short')\n",
      "('paragraph', 'paragraph')\n",
      "('added', 'add')\n",
      "('original', 'original')\n",
      "('bengali', 'bengali')\n",
      "('end', 'end')\n",
      "('story', 'story')\n",
      "('called', 'call')\n",
      "('postmaster', 'postmaster')\n",
      "('unfortunately', 'unfortunately')\n",
      "('omitted', 'omit')\n",
      "('first', 'first')\n",
      "('english', 'english')\n",
      "('edition', 'edition')\n",
      "('list', 'list')\n",
      "('words', 'word')\n",
      "('studied', 'study')\n",
      "('chosen', 'chosen')\n",
      "('story', 'story')\n",
      "('order', 'order')\n",
      "('bring', 'bring')\n",
      "('notice', 'notice')\n",
      "('different', 'different')\n",
      "('types', 'type')\n",
      "('english', 'english')\n",
      "('words', 'word')\n",
      "('lists', 'list')\n",
      "('sense', 'sense')\n",
      "('exhaustive', 'exhaustive')\n",
      "('end', 'end')\n",
      "('view', 'view')\n",
      "('endeavour', 'endeavour')\n",
      "('create', 'create')\n",
      "('interest', 'interest')\n",
      "('indian', 'indian')\n",
      "('words', 'word')\n",
      "('history', 'history')\n",
      "('may', 'may')\n",
      "('lead', 'lead')\n",
      "('study', 'study')\n",
      "('contents', 'content')\n",
      "('page', 'page')\n",
      "('cabuliwallah', 'cabuliwallah')\n",
      "('home', 'home')\n",
      "('coming', 'come')\n",
      "('king', 'king')\n",
      "('child', 'child')\n",
      "('return', 'return')\n",
      "('master', 'master')\n",
      "('mashai', 'mashai')\n",
      "('subha', 'subha')\n",
      "('postmaster', 'postmaster')\n",
      "('castaway', 'castaway')\n",
      "('son', 'son')\n",
      "('rashmani', 'rashmani')\n",
      "('babus', 'babu')\n",
      "('nayanjore', 'nayanjore')\n",
      "('notes', 'note')\n",
      "('cabuliwallah', 'cabuliwallah')\n"
     ]
    }
   ],
   "source": [
    "meta_lemmaed = []\n",
    "for word, pos in stories_lemmas_pos:\n",
    "    meta_lemmaed.append(lemmatizer.lemmatize(word, pos=pos))\n",
    "print(*zip(stories_tokens_stopped[100:200], meta_lemmaed[100:200]), sep='\\n')"
   ]
  },
  {
   "cell_type": "markdown",
   "metadata": {},
   "source": [
    "## Frequency Distributions"
   ]
  },
  {
   "cell_type": "code",
   "execution_count": 20,
   "metadata": {},
   "outputs": [
    {
     "data": {
      "text/plain": [
       "[('would', 290),\n",
       " ('word', 229),\n",
       " ('say', 226),\n",
       " ('come', 225),\n",
       " ('go', 223),\n",
       " ('one', 215),\n",
       " ('could', 154),\n",
       " ('day', 154),\n",
       " ('take', 147),\n",
       " ('mother', 136),\n",
       " ('make', 132),\n",
       " ('time', 111),\n",
       " ('work', 109),\n",
       " ('mean', 105),\n",
       " ('house', 102),\n",
       " ('haralal', 102),\n",
       " ('give', 101),\n",
       " ('kalipada', 101),\n",
       " ('ask', 100),\n",
       " ('little', 98),\n",
       " ('get', 93),\n",
       " ('never', 91),\n",
       " ('like', 91),\n",
       " ('compare', 91),\n",
       " ('use', 89),\n",
       " ('old', 88),\n",
       " ('gutenberg', 88),\n",
       " ('english', 86),\n",
       " ('project', 86),\n",
       " ('call', 85),\n",
       " ('room', 85),\n",
       " ('boy', 83),\n",
       " ('hand', 83),\n",
       " ('son', 81),\n",
       " ('bhavani', 80),\n",
       " ('latin', 79),\n",
       " ('become', 79),\n",
       " ('father', 78),\n",
       " ('find', 78),\n",
       " ('heart', 75),\n",
       " ('know', 74),\n",
       " ('back', 74),\n",
       " ('look', 74),\n",
       " ('child', 72),\n",
       " ('away', 70),\n",
       " ('long', 68),\n",
       " ('tell', 67),\n",
       " ('great', 67),\n",
       " ('see', 65),\n",
       " ('man', 64)]"
      ]
     },
     "execution_count": 20,
     "metadata": {},
     "output_type": "execute_result"
    }
   ],
   "source": [
    "from nltk import FreqDist\n",
    "meta_freqdist = FreqDist(meta_lemmaed)\n",
    "meta_freqdist.most_common(50)"
   ]
  },
  {
   "cell_type": "code",
   "execution_count": 21,
   "metadata": {},
   "outputs": [
    {
     "data": {
      "image/png": "[encoded data removed]",
      "text/plain": [
       "<Figure size 432x288 with 1 Axes>"
      ]
     },
     "metadata": {
      "needs_background": "light"
     },
     "output_type": "display_data"
    }
   ],
   "source": [
    "%matplotlib inline\n",
    "meta_freqdist.plot(30, cumulative=False);"
   ]
  },
  {
   "cell_type": "markdown",
   "metadata": {},
   "source": [
    "## Vectorization"
   ]
  },
  {
   "cell_type": "code",
   "execution_count": 22,
   "metadata": {},
   "outputs": [
    {
     "data": {
      "text/plain": [
       "CountVectorizer(analyzer='word', binary=False, decode_error='strict',\n",
       "                dtype=<class 'numpy.int64'>, encoding='utf-8', input='content',\n",
       "                lowercase=True, max_df=1.0, max_features=None, min_df=1,\n",
       "                ngram_range=(1, 1), preprocessor=None, stop_words=None,\n",
       "                strip_accents=None, token_pattern='(?u)\\\\b\\\\w\\\\w+\\\\b',\n",
       "                tokenizer=None, vocabulary=None)"
      ]
     },
     "execution_count": 22,
     "metadata": {},
     "output_type": "execute_result"
    }
   ],
   "source": [
    "import pandas as pd\n",
    "from sklearn.feature_extraction.text import CountVectorizer, TfidfVectorizer\n",
    "cv = CountVectorizer()\n",
    "cv.fit(meta_lemmaed)"
   ]
  },
  {
   "cell_type": "code",
   "execution_count": 23,
   "metadata": {},
   "outputs": [
    {
     "data": {
      "text/html": [
       "<div>\n",
       "<style scoped>\n",
       "    .dataframe tbody tr th:only-of-type {\n",
       "        vertical-align: middle;\n",
       "    }\n",
       "\n",
       "    .dataframe tbody tr th {\n",
       "        vertical-align: top;\n",
       "    }\n",
       "\n",
       "    .dataframe thead th {\n",
       "        text-align: right;\n",
       "    }\n",
       "</style>\n",
       "<table border=\"1\" class=\"dataframe\">\n",
       "  <thead>\n",
       "    <tr style=\"text-align: right;\">\n",
       "      <th></th>\n",
       "      <th>abandon</th>\n",
       "      <th>abated</th>\n",
       "      <th>abdurrahman</th>\n",
       "      <th>abhaya</th>\n",
       "      <th>abide</th>\n",
       "      <th>abject</th>\n",
       "      <th>abjectly</th>\n",
       "      <th>able</th>\n",
       "      <th>ablution</th>\n",
       "      <th>abroad</th>\n",
       "      <th>...</th>\n",
       "      <th>xi</th>\n",
       "      <th>year</th>\n",
       "      <th>yellow</th>\n",
       "      <th>yes</th>\n",
       "      <th>yesterday</th>\n",
       "      <th>yet</th>\n",
       "      <th>young</th>\n",
       "      <th>youth</th>\n",
       "      <th>zip</th>\n",
       "      <th>zunjubil</th>\n",
       "    </tr>\n",
       "  </thead>\n",
       "  <tbody>\n",
       "    <tr>\n",
       "      <th>0</th>\n",
       "      <td>0</td>\n",
       "      <td>0</td>\n",
       "      <td>0</td>\n",
       "      <td>0</td>\n",
       "      <td>0</td>\n",
       "      <td>0</td>\n",
       "      <td>0</td>\n",
       "      <td>0</td>\n",
       "      <td>0</td>\n",
       "      <td>0</td>\n",
       "      <td>...</td>\n",
       "      <td>0</td>\n",
       "      <td>0</td>\n",
       "      <td>0</td>\n",
       "      <td>0</td>\n",
       "      <td>0</td>\n",
       "      <td>0</td>\n",
       "      <td>0</td>\n",
       "      <td>0</td>\n",
       "      <td>0</td>\n",
       "      <td>0</td>\n",
       "    </tr>\n",
       "    <tr>\n",
       "      <th>1</th>\n",
       "      <td>0</td>\n",
       "      <td>0</td>\n",
       "      <td>0</td>\n",
       "      <td>0</td>\n",
       "      <td>0</td>\n",
       "      <td>0</td>\n",
       "      <td>0</td>\n",
       "      <td>0</td>\n",
       "      <td>0</td>\n",
       "      <td>0</td>\n",
       "      <td>...</td>\n",
       "      <td>0</td>\n",
       "      <td>0</td>\n",
       "      <td>0</td>\n",
       "      <td>0</td>\n",
       "      <td>0</td>\n",
       "      <td>0</td>\n",
       "      <td>0</td>\n",
       "      <td>0</td>\n",
       "      <td>0</td>\n",
       "      <td>0</td>\n",
       "    </tr>\n",
       "    <tr>\n",
       "      <th>2</th>\n",
       "      <td>0</td>\n",
       "      <td>0</td>\n",
       "      <td>0</td>\n",
       "      <td>0</td>\n",
       "      <td>0</td>\n",
       "      <td>0</td>\n",
       "      <td>0</td>\n",
       "      <td>0</td>\n",
       "      <td>0</td>\n",
       "      <td>0</td>\n",
       "      <td>...</td>\n",
       "      <td>0</td>\n",
       "      <td>0</td>\n",
       "      <td>0</td>\n",
       "      <td>0</td>\n",
       "      <td>0</td>\n",
       "      <td>0</td>\n",
       "      <td>0</td>\n",
       "      <td>0</td>\n",
       "      <td>0</td>\n",
       "      <td>0</td>\n",
       "    </tr>\n",
       "    <tr>\n",
       "      <th>3</th>\n",
       "      <td>0</td>\n",
       "      <td>0</td>\n",
       "      <td>0</td>\n",
       "      <td>0</td>\n",
       "      <td>0</td>\n",
       "      <td>0</td>\n",
       "      <td>0</td>\n",
       "      <td>0</td>\n",
       "      <td>0</td>\n",
       "      <td>0</td>\n",
       "      <td>...</td>\n",
       "      <td>0</td>\n",
       "      <td>0</td>\n",
       "      <td>0</td>\n",
       "      <td>0</td>\n",
       "      <td>0</td>\n",
       "      <td>0</td>\n",
       "      <td>0</td>\n",
       "      <td>0</td>\n",
       "      <td>0</td>\n",
       "      <td>0</td>\n",
       "    </tr>\n",
       "    <tr>\n",
       "      <th>4</th>\n",
       "      <td>0</td>\n",
       "      <td>0</td>\n",
       "      <td>0</td>\n",
       "      <td>0</td>\n",
       "      <td>0</td>\n",
       "      <td>0</td>\n",
       "      <td>0</td>\n",
       "      <td>0</td>\n",
       "      <td>0</td>\n",
       "      <td>0</td>\n",
       "      <td>...</td>\n",
       "      <td>0</td>\n",
       "      <td>0</td>\n",
       "      <td>0</td>\n",
       "      <td>0</td>\n",
       "      <td>0</td>\n",
       "      <td>0</td>\n",
       "      <td>0</td>\n",
       "      <td>0</td>\n",
       "      <td>0</td>\n",
       "      <td>0</td>\n",
       "    </tr>\n",
       "  </tbody>\n",
       "</table>\n",
       "<p>5 rows × 4990 columns</p>\n",
       "</div>"
      ],
      "text/plain": [
       "   abandon  abated  abdurrahman  abhaya  abide  abject  abjectly  able  \\\n",
       "0        0       0            0       0      0       0         0     0   \n",
       "1        0       0            0       0      0       0         0     0   \n",
       "2        0       0            0       0      0       0         0     0   \n",
       "3        0       0            0       0      0       0         0     0   \n",
       "4        0       0            0       0      0       0         0     0   \n",
       "\n",
       "   ablution  abroad  ...  xi  year  yellow  yes  yesterday  yet  young  youth  \\\n",
       "0         0       0  ...   0     0       0    0          0    0      0      0   \n",
       "1         0       0  ...   0     0       0    0          0    0      0      0   \n",
       "2         0       0  ...   0     0       0    0          0    0      0      0   \n",
       "3         0       0  ...   0     0       0    0          0    0      0      0   \n",
       "4         0       0  ...   0     0       0    0          0    0      0      0   \n",
       "\n",
       "   zip  zunjubil  \n",
       "0    0         0  \n",
       "1    0         0  \n",
       "2    0         0  \n",
       "3    0         0  \n",
       "4    0         0  \n",
       "\n",
       "[5 rows x 4990 columns]"
      ]
     },
     "execution_count": 23,
     "metadata": {},
     "output_type": "execute_result"
    }
   ],
   "source": [
    "example_vector_doc_1 = cv.transform(meta_lemmaed)\n",
    "example_vector_df = pd.DataFrame(example_vector_doc_1.toarray(), columns=cv.get_feature_names())\n",
    "example_vector_df.head()"
   ]
  },
  {
   "cell_type": "markdown",
   "metadata": {},
   "source": [
    "## Loading in Robert E. Howard and Edgar Rice Burroughs"
   ]
  },
  {
   "cell_type": "code",
   "execution_count": 24,
   "metadata": {},
   "outputs": [],
   "source": [
    "resp_1 = requests.get('http://www.gutenberg.org/cache/epub/42182/pg42182.txt')\n",
    "stories_1 = resp_1.text"
   ]
  },
  {
   "cell_type": "code",
   "execution_count": 25,
   "metadata": {},
   "outputs": [
    {
     "name": "stdout",
     "output_type": "stream",
     "text": [
      "﻿The Project Gutenberg EBook of The Hyborian Age, by Robert E. Howard\r\n",
      "\r\n",
      "This eBook is for the use of anyone anywhere at no cost and with\r\n",
      "almost no restrictions whatsoever.  You may copy it, give it away or\r\n",
      "re-use it under the terms of the Project Gutenberg License included\r\n",
      "with this eBook or online at www.gutenberg.org\r\n",
      "\r\n",
      "\r\n",
      "Title: The Hyborian Age\r\n",
      "\r\n",
      "Author: Robert E. Howard\r\n",
      "\r\n",
      "Release Date: February 24, 2013 [EBook #42182]\r\n",
      "\r\n",
      "Language: English\r\n",
      "\r\n",
      "\r\n",
      "*** START OF THIS PROJECT GUTENBERG EBOOK THE HYBORIAN AGE ***\r\n",
      "\r\n",
      "\r\n",
      "\r\n",
      "\r\n",
      "Produced by Greg Weeks, Mary Meehan and the Online\r\n",
      "Distributed Proofreading Team at http://www.pgdp.net\r\n",
      "\r\n",
      "\r\n",
      "\r\n",
      "\r\n",
      "\r\n",
      "\r\n",
      "\r\n",
      "\r\n",
      "\r\n",
      "                          THE HYBORIAN AGE\r\n",
      "\r\n",
      "                         By Robert E. Howard\r\n",
      "\r\n",
      "    [Transcriber's Note: This etext was first published in The\r\n",
      "    Phantagraph February, August, and October-November 1936 issues.\r\n",
      "    Extensive research did not uncover any evidence that the U.S.\r\n",
      "    copyright on this publication was renewed.]\r\n",
      "\r\n",
      "\r\n",
      "    (Nothing in this article is to be considered as an attempt to\r\n",
      "    advance any theory in opposition to accepted history. It is simply a\r\n",
      "    fictional background for a series of fiction-stories. When I began\r\n",
      "    writing the Conan stories a few years ago, I prepared this 'history'\r\n",
      "    of his age and the peoples of that age, in order to lend him and his\r\n",
      "    sagas a greater aspect of realness. And I found that by adhering to\r\n",
      "    the 'facts' and spirit of that history, in writing the stories, it\r\n",
      "    was easier to visualize (and therefore to present) him as a real\r\n",
      "    flesh-and-blood character rather than a ready-made product. In\r\n",
      "    writing about him and his adventures in the various kingdoms of his\r\n",
      "    Age, I have never violated the 'facts' or spirit of the 'history'\r\n",
      "    here set down, but have followed the lines of that history as\r\n",
      "    closely as the writer of actual historical-fiction follows the lines\r\n",
      "    of actual history. I have used this 'history' as a guide in all the\r\n",
      "    stories in this series that I have written.)\r\n",
      "\r\n",
      "       *       *       *       *       *\r\n",
      "\r\n",
      "\n"
     ]
    }
   ],
   "source": [
    "print(stories_1[:2099])"
   ]
  },
  {
   "cell_type": "code",
   "execution_count": 26,
   "metadata": {},
   "outputs": [
    {
     "name": "stdout",
     "output_type": "stream",
     "text": [
      "['Of', 'that', 'epoch', 'known', 'by', 'the', 'Nemedian', 'chroniclers', 'as', 'the', 'Pre', 'Cataclysmic', 'Age', 'little', 'is', 'known', 'except', 'the', 'latter', 'part', 'and', 'that', 'is', 'veiled', 'in', 'the', 'mists', 'of', 'legendry', 'Known', 'history', 'begins', 'with', 'the', 'waning', 'of', 'the', 'Pre', 'Cataclysmic', 'civilization', 'dominated', 'by', 'the', 'kingdoms', 'of', 'Kamelia', 'Valusia', 'Verulia', 'Grondar', 'Thule', 'and', 'Commoria', 'These', 'peoples', 'spoke', 'a', 'similar', 'language', 'arguing', 'a', 'common', 'origin', 'There', 'were', 'other', 'kingdoms', 'equally', 'civilized', 'but', 'inhabited', 'by', 'different', 'and', 'apparently', 'older', 'races', 'The', 'barbarians', 'of', 'that', 'age', 'were', 'the', 'Picts', 'who', 'lived', 'on', 'islands', 'far', 'out', 'on', 'the', 'western', 'ocean', 'the', 'Atlanteans', 'who', 'dwelt', 'on', 'a']\n"
     ]
    }
   ],
   "source": [
    "pattern_1 = \"([a-zA-Z]+(?:'[a-z]+)?)\"\n",
    "stories_tokens_raw_1 = nltk.regexp_tokenize(stories_1[2099:], pattern_1)\n",
    "print(stories_tokens_raw_1[:100])"
   ]
  },
  {
   "cell_type": "code",
   "execution_count": 27,
   "metadata": {},
   "outputs": [
    {
     "name": "stdout",
     "output_type": "stream",
     "text": [
      "['of', 'that', 'epoch', 'known', 'by', 'the', 'nemedian', 'chroniclers', 'as', 'the', 'pre', 'cataclysmic', 'age', 'little', 'is', 'known', 'except', 'the', 'latter', 'part', 'and', 'that', 'is', 'veiled', 'in', 'the', 'mists', 'of', 'legendry', 'known', 'history', 'begins', 'with', 'the', 'waning', 'of', 'the', 'pre', 'cataclysmic', 'civilization', 'dominated', 'by', 'the', 'kingdoms', 'of', 'kamelia', 'valusia', 'verulia', 'grondar', 'thule', 'and', 'commoria', 'these', 'peoples', 'spoke', 'a', 'similar', 'language', 'arguing', 'a', 'common', 'origin', 'there', 'were', 'other', 'kingdoms', 'equally', 'civilized', 'but', 'inhabited', 'by', 'different', 'and', 'apparently', 'older', 'races', 'the', 'barbarians', 'of', 'that', 'age', 'were', 'the', 'picts', 'who', 'lived', 'on', 'islands', 'far', 'out', 'on', 'the', 'western', 'ocean', 'the', 'atlanteans', 'who', 'dwelt', 'on', 'a']\n"
     ]
    }
   ],
   "source": [
    "stories_tokens_1 = [i.lower() for i in stories_tokens_raw_1]\n",
    "print(stories_tokens_1[:100])"
   ]
  },
  {
   "cell_type": "code",
   "execution_count": 28,
   "metadata": {},
   "outputs": [
    {
     "name": "stdout",
     "output_type": "stream",
     "text": [
      "['epoch', 'known', 'nemedian', 'chroniclers', 'pre', 'cataclysmic', 'age', 'little', 'known', 'except', 'latter', 'part', 'veiled', 'mists', 'legendry', 'known', 'history', 'begins', 'waning', 'pre', 'cataclysmic', 'civilization', 'dominated', 'kingdoms', 'kamelia', 'valusia', 'verulia', 'grondar', 'thule', 'commoria', 'peoples', 'spoke', 'similar', 'language', 'arguing', 'common', 'origin', 'kingdoms', 'equally', 'civilized', 'inhabited', 'different', 'apparently', 'older', 'races', 'barbarians', 'age', 'picts', 'lived', 'islands', 'far', 'western', 'ocean', 'atlanteans', 'dwelt', 'small', 'continent', 'pictish', 'islands', 'main', 'thurian', 'continent', 'lemurians', 'inhabited', 'chain', 'large', 'islands', 'eastern', 'hemisphere', 'vast', 'regions', 'unexplored', 'land', 'civilized', 'kingdoms', 'though', 'enormous', 'extent', 'occupied', 'comparatively', 'small', 'portion', 'whole', 'planet', 'valusia', 'western', 'kingdom', 'thurian', 'continent', 'grondar', 'eastern', 'east', 'grondar', 'whose', 'people', 'less', 'highly', 'cultured', 'kindred', 'kingdoms']\n"
     ]
    }
   ],
   "source": [
    "stories_tokens_stopped_1 = [w for w in stories_tokens_1 if not w in stop_words]\n",
    "stories_tokens_stopped_1 = [w for w in stories_tokens_stopped_1 if not w in ['gutenberg', 'tm', 'e']]\n",
    "print(stories_tokens_stopped_1[:100])"
   ]
  },
  {
   "cell_type": "code",
   "execution_count": 29,
   "metadata": {},
   "outputs": [],
   "source": [
    "stories_lemmas_pos_1 = []\n",
    "for x, y in nltk.pos_tag(stories_tokens_stopped_1):\n",
    "    stories_lemmas_pos_1.append((x, get_wordnet_pos(y)))"
   ]
  },
  {
   "cell_type": "code",
   "execution_count": 30,
   "metadata": {},
   "outputs": [],
   "source": [
    "meta_lemmaed_1 = []\n",
    "for word, pos in stories_lemmas_pos_1:\n",
    "    meta_lemmaed_1.append(lemmatizer.lemmatize(word, pos=pos))"
   ]
  },
  {
   "cell_type": "code",
   "execution_count": 31,
   "metadata": {},
   "outputs": [
    {
     "data": {
      "text/plain": [
       "[('work', 84),\n",
       " ('project', 84),\n",
       " ('kingdom', 59),\n",
       " ('picts', 39),\n",
       " ('western', 36),\n",
       " ('race', 35),\n",
       " ('people', 33),\n",
       " ('tribe', 33),\n",
       " ('land', 29),\n",
       " ('electronic', 27),\n",
       " ('come', 26),\n",
       " ('copy', 26),\n",
       " ('savage', 25),\n",
       " ('world', 24),\n",
       " ('north', 24),\n",
       " ('empire', 24),\n",
       " ('among', 23),\n",
       " ('war', 23),\n",
       " ('term', 23),\n",
       " ('hyrkanians', 23),\n",
       " ('foundation', 23),\n",
       " ('state', 22),\n",
       " ('age', 21),\n",
       " ('barbarian', 21),\n",
       " ('use', 21),\n",
       " ('blood', 21),\n",
       " ('eastern', 20),\n",
       " ('east', 20),\n",
       " ('south', 20),\n",
       " ('great', 20),\n",
       " ('ancient', 20),\n",
       " ('far', 19),\n",
       " ('pictish', 19),\n",
       " ('contact', 19),\n",
       " ('nordic', 19),\n",
       " ('old', 18),\n",
       " ('country', 18),\n",
       " ('hyborian', 18),\n",
       " ('aquilonia', 18),\n",
       " ('agreement', 18),\n",
       " ('continent', 17),\n",
       " ('city', 17),\n",
       " ('sea', 17),\n",
       " ('koth', 17),\n",
       " ('army', 16),\n",
       " ('year', 16),\n",
       " ('hyborians', 16),\n",
       " ('mixed', 16),\n",
       " ('shem', 16),\n",
       " ('cimmerians', 16)]"
      ]
     },
     "execution_count": 31,
     "metadata": {},
     "output_type": "execute_result"
    }
   ],
   "source": [
    "meta_freqdist_1 = FreqDist(meta_lemmaed_1)\n",
    "meta_freqdist_1.most_common(50)"
   ]
  },
  {
   "cell_type": "code",
   "execution_count": 32,
   "metadata": {},
   "outputs": [
    {
     "data": {
      "image/png": "[encoded data removed]",
      "text/plain": [
       "<Figure size 432x288 with 1 Axes>"
      ]
     },
     "metadata": {
      "needs_background": "light"
     },
     "output_type": "display_data"
    }
   ],
   "source": [
    "%matplotlib inline\n",
    "meta_freqdist_1.plot(30, cumulative=False);"
   ]
  },
  {
   "cell_type": "code",
   "execution_count": 33,
   "metadata": {},
   "outputs": [
    {
     "data": {
      "text/html": [
       "<div>\n",
       "<style scoped>\n",
       "    .dataframe tbody tr th:only-of-type {\n",
       "        vertical-align: middle;\n",
       "    }\n",
       "\n",
       "    .dataframe tbody tr th {\n",
       "        vertical-align: top;\n",
       "    }\n",
       "\n",
       "    .dataframe thead th {\n",
       "        text-align: right;\n",
       "    }\n",
       "</style>\n",
       "<table border=\"1\" class=\"dataframe\">\n",
       "  <thead>\n",
       "    <tr style=\"text-align: right;\">\n",
       "      <th></th>\n",
       "      <th>abandon</th>\n",
       "      <th>abide</th>\n",
       "      <th>able</th>\n",
       "      <th>aboriginal</th>\n",
       "      <th>aborigine</th>\n",
       "      <th>abruptly</th>\n",
       "      <th>absorb</th>\n",
       "      <th>accept</th>\n",
       "      <th>access</th>\n",
       "      <th>accessible</th>\n",
       "      <th>...</th>\n",
       "      <th>young</th>\n",
       "      <th>zamora</th>\n",
       "      <th>zamorian</th>\n",
       "      <th>zamorians</th>\n",
       "      <th>zembabwe</th>\n",
       "      <th>zhemri</th>\n",
       "      <th>zingara</th>\n",
       "      <th>zingarans</th>\n",
       "      <th>zingg</th>\n",
       "      <th>zip</th>\n",
       "    </tr>\n",
       "  </thead>\n",
       "  <tbody>\n",
       "    <tr>\n",
       "      <th>0</th>\n",
       "      <td>0</td>\n",
       "      <td>0</td>\n",
       "      <td>0</td>\n",
       "      <td>0</td>\n",
       "      <td>0</td>\n",
       "      <td>0</td>\n",
       "      <td>0</td>\n",
       "      <td>0</td>\n",
       "      <td>0</td>\n",
       "      <td>0</td>\n",
       "      <td>...</td>\n",
       "      <td>0</td>\n",
       "      <td>0</td>\n",
       "      <td>0</td>\n",
       "      <td>0</td>\n",
       "      <td>0</td>\n",
       "      <td>0</td>\n",
       "      <td>0</td>\n",
       "      <td>0</td>\n",
       "      <td>0</td>\n",
       "      <td>0</td>\n",
       "    </tr>\n",
       "    <tr>\n",
       "      <th>1</th>\n",
       "      <td>0</td>\n",
       "      <td>0</td>\n",
       "      <td>0</td>\n",
       "      <td>0</td>\n",
       "      <td>0</td>\n",
       "      <td>0</td>\n",
       "      <td>0</td>\n",
       "      <td>0</td>\n",
       "      <td>0</td>\n",
       "      <td>0</td>\n",
       "      <td>...</td>\n",
       "      <td>0</td>\n",
       "      <td>0</td>\n",
       "      <td>0</td>\n",
       "      <td>0</td>\n",
       "      <td>0</td>\n",
       "      <td>0</td>\n",
       "      <td>0</td>\n",
       "      <td>0</td>\n",
       "      <td>0</td>\n",
       "      <td>0</td>\n",
       "    </tr>\n",
       "    <tr>\n",
       "      <th>2</th>\n",
       "      <td>0</td>\n",
       "      <td>0</td>\n",
       "      <td>0</td>\n",
       "      <td>0</td>\n",
       "      <td>0</td>\n",
       "      <td>0</td>\n",
       "      <td>0</td>\n",
       "      <td>0</td>\n",
       "      <td>0</td>\n",
       "      <td>0</td>\n",
       "      <td>...</td>\n",
       "      <td>0</td>\n",
       "      <td>0</td>\n",
       "      <td>0</td>\n",
       "      <td>0</td>\n",
       "      <td>0</td>\n",
       "      <td>0</td>\n",
       "      <td>0</td>\n",
       "      <td>0</td>\n",
       "      <td>0</td>\n",
       "      <td>0</td>\n",
       "    </tr>\n",
       "    <tr>\n",
       "      <th>3</th>\n",
       "      <td>0</td>\n",
       "      <td>0</td>\n",
       "      <td>0</td>\n",
       "      <td>0</td>\n",
       "      <td>0</td>\n",
       "      <td>0</td>\n",
       "      <td>0</td>\n",
       "      <td>0</td>\n",
       "      <td>0</td>\n",
       "      <td>0</td>\n",
       "      <td>...</td>\n",
       "      <td>0</td>\n",
       "      <td>0</td>\n",
       "      <td>0</td>\n",
       "      <td>0</td>\n",
       "      <td>0</td>\n",
       "      <td>0</td>\n",
       "      <td>0</td>\n",
       "      <td>0</td>\n",
       "      <td>0</td>\n",
       "      <td>0</td>\n",
       "    </tr>\n",
       "    <tr>\n",
       "      <th>4</th>\n",
       "      <td>0</td>\n",
       "      <td>0</td>\n",
       "      <td>0</td>\n",
       "      <td>0</td>\n",
       "      <td>0</td>\n",
       "      <td>0</td>\n",
       "      <td>0</td>\n",
       "      <td>0</td>\n",
       "      <td>0</td>\n",
       "      <td>0</td>\n",
       "      <td>...</td>\n",
       "      <td>0</td>\n",
       "      <td>0</td>\n",
       "      <td>0</td>\n",
       "      <td>0</td>\n",
       "      <td>0</td>\n",
       "      <td>0</td>\n",
       "      <td>0</td>\n",
       "      <td>0</td>\n",
       "      <td>0</td>\n",
       "      <td>0</td>\n",
       "    </tr>\n",
       "  </tbody>\n",
       "</table>\n",
       "<p>5 rows × 1944 columns</p>\n",
       "</div>"
      ],
      "text/plain": [
       "   abandon  abide  able  aboriginal  aborigine  abruptly  absorb  accept  \\\n",
       "0        0      0     0           0          0         0       0       0   \n",
       "1        0      0     0           0          0         0       0       0   \n",
       "2        0      0     0           0          0         0       0       0   \n",
       "3        0      0     0           0          0         0       0       0   \n",
       "4        0      0     0           0          0         0       0       0   \n",
       "\n",
       "   access  accessible  ...  young  zamora  zamorian  zamorians  zembabwe  \\\n",
       "0       0           0  ...      0       0         0          0         0   \n",
       "1       0           0  ...      0       0         0          0         0   \n",
       "2       0           0  ...      0       0         0          0         0   \n",
       "3       0           0  ...      0       0         0          0         0   \n",
       "4       0           0  ...      0       0         0          0         0   \n",
       "\n",
       "   zhemri  zingara  zingarans  zingg  zip  \n",
       "0       0        0          0      0    0  \n",
       "1       0        0          0      0    0  \n",
       "2       0        0          0      0    0  \n",
       "3       0        0          0      0    0  \n",
       "4       0        0          0      0    0  \n",
       "\n",
       "[5 rows x 1944 columns]"
      ]
     },
     "execution_count": 33,
     "metadata": {},
     "output_type": "execute_result"
    }
   ],
   "source": [
    "cv_1 = CountVectorizer()\n",
    "cv_1.fit(meta_lemmaed_1)\n",
    "vector_doc_1 = cv_1.transform(meta_lemmaed_1)\n",
    "vector_df = pd.DataFrame(vector_doc_1.toarray(), columns=cv_1.get_feature_names())\n",
    "vector_df.head()"
   ]
  },
  {
   "cell_type": "code",
   "execution_count": 34,
   "metadata": {},
   "outputs": [],
   "source": [
    "resp_2 = requests.get('http://www.gutenberg.org/cache/epub/62/pg62.txt')\n",
    "stories_2 = resp_2.text"
   ]
  },
  {
   "cell_type": "code",
   "execution_count": 35,
   "metadata": {},
   "outputs": [
    {
     "name": "stdout",
     "output_type": "stream",
     "text": [
      "﻿The Project Gutenberg EBook of A Princess of Mars, by Edgar Rice Burroughs\r\n",
      "\r\n",
      "This eBook is for the use of anyone anywhere at no cost and with\r\n",
      "almost no restrictions whatsoever.  You may copy it, give it away or\r\n",
      "re-use it under the terms of the Project Gutenberg License included\r\n",
      "with this eBook or online at www.gutenberg.net\r\n",
      "\r\n",
      "\r\n",
      "Title: A Princess of Mars\r\n",
      "\r\n",
      "Author: Edgar Rice Burroughs\r\n",
      "\r\n",
      "Release Date: June 23, 2008 [EBook #62]\r\n",
      "Last updated: October 12, 2012\r\n",
      "Last updated: December 8, 2012\r\n",
      "Last updated: February 6, 2013\r\n",
      "Last updated: March 11, 2013\r\n",
      "\r\n",
      "Language: English\r\n",
      "\r\n",
      "\r\n",
      "*** START OF THIS PROJECT GUTENBERG EBOOK A PRINCESS OF MARS ***\r\n",
      "\r\n",
      "\r\n",
      "\r\n",
      "\r\n",
      "\r\n",
      "\r\n",
      "\r\n",
      "\r\n",
      "\r\n",
      "\r\n",
      "\r\n",
      "\r\n",
      "\r\n",
      "\r\n",
      "\r\n",
      "[Frontispiece: With my back against a golden throne, I fought once\r\n",
      "again for Dejah Thoris]\r\n",
      "\r\n",
      "\r\n",
      "\r\n",
      "\r\n",
      "A PRINCESS OF MARS\r\n",
      "\r\n",
      "\r\n",
      "by\r\n",
      "\r\n",
      "Edgar Rice Burroughs\r\n",
      "\r\n",
      "\r\n",
      "\r\n",
      "To My Son Jack\r\n",
      "\r\n",
      "\r\n",
      "\r\n",
      "\r\n",
      "\n"
     ]
    }
   ],
   "source": [
    "print(stories_2[:868])"
   ]
  },
  {
   "cell_type": "code",
   "execution_count": 36,
   "metadata": {},
   "outputs": [
    {
     "name": "stdout",
     "output_type": "stream",
     "text": [
      "['FOREWORD', 'To', 'the', 'Reader', 'of', 'this', 'Work', 'In', 'submitting', 'Captain', \"Carter's\", 'strange', 'manuscript', 'to', 'you', 'in', 'book', 'form', 'I', 'believe', 'that', 'a', 'few', 'words', 'relative', 'to', 'this', 'remarkable', 'personality', 'will', 'be', 'of', 'interest', 'My', 'first', 'recollection', 'of', 'Captain', 'Carter', 'is', 'of', 'the', 'few', 'months', 'he', 'spent', 'at', 'my', \"father's\", 'home', 'in', 'Virginia', 'just', 'prior', 'to', 'the', 'opening', 'of', 'the', 'civil', 'war', 'I', 'was', 'then', 'a', 'child', 'of', 'but', 'five', 'years', 'yet', 'I', 'well', 'remember', 'the', 'tall', 'dark', 'smooth', 'faced', 'athletic', 'man', 'whom', 'I', 'called', 'Uncle', 'Jack', 'He', 'seemed', 'always', 'to', 'be', 'laughing', 'and', 'he', 'entered', 'into', 'the', 'sports', 'of', 'the']\n"
     ]
    }
   ],
   "source": [
    "pattern_2 = \"([a-zA-Z]+(?:'[a-z]+)?)\"\n",
    "stories_tokens_raw_2 = nltk.regexp_tokenize(stories_2[868:], pattern_2)\n",
    "print(stories_tokens_raw_2[:100])"
   ]
  },
  {
   "cell_type": "code",
   "execution_count": 37,
   "metadata": {},
   "outputs": [
    {
     "name": "stdout",
     "output_type": "stream",
     "text": [
      "['foreword', 'to', 'the', 'reader', 'of', 'this', 'work', 'in', 'submitting', 'captain', \"carter's\", 'strange', 'manuscript', 'to', 'you', 'in', 'book', 'form', 'i', 'believe', 'that', 'a', 'few', 'words', 'relative', 'to', 'this', 'remarkable', 'personality', 'will', 'be', 'of', 'interest', 'my', 'first', 'recollection', 'of', 'captain', 'carter', 'is', 'of', 'the', 'few', 'months', 'he', 'spent', 'at', 'my', \"father's\", 'home', 'in', 'virginia', 'just', 'prior', 'to', 'the', 'opening', 'of', 'the', 'civil', 'war', 'i', 'was', 'then', 'a', 'child', 'of', 'but', 'five', 'years', 'yet', 'i', 'well', 'remember', 'the', 'tall', 'dark', 'smooth', 'faced', 'athletic', 'man', 'whom', 'i', 'called', 'uncle', 'jack', 'he', 'seemed', 'always', 'to', 'be', 'laughing', 'and', 'he', 'entered', 'into', 'the', 'sports', 'of', 'the']\n"
     ]
    }
   ],
   "source": [
    "stories_tokens_2 = [i.lower() for i in stories_tokens_raw_2]\n",
    "print(stories_tokens_2[:100])"
   ]
  },
  {
   "cell_type": "code",
   "execution_count": 38,
   "metadata": {},
   "outputs": [
    {
     "name": "stdout",
     "output_type": "stream",
     "text": [
      "['foreword', 'reader', 'work', 'submitting', 'captain', \"carter's\", 'strange', 'manuscript', 'book', 'form', 'believe', 'words', 'relative', 'remarkable', 'personality', 'interest', 'first', 'recollection', 'captain', 'carter', 'months', 'spent', \"father's\", 'home', 'virginia', 'prior', 'opening', 'civil', 'war', 'child', 'five', 'years', 'yet', 'well', 'remember', 'tall', 'dark', 'smooth', 'faced', 'athletic', 'man', 'called', 'uncle', 'jack', 'seemed', 'always', 'laughing', 'entered', 'sports', 'children', 'hearty', 'good', 'fellowship', 'displayed', 'toward', 'pastimes', 'men', 'women', 'age', 'indulged', 'would', 'sit', 'hour', 'time', 'entertaining', 'old', 'grandmother', 'stories', 'strange', 'wild', 'life', 'parts', 'world', 'loved', 'slaves', 'fairly', 'worshipped', 'ground', 'trod', 'splendid', 'specimen', 'manhood', 'standing', 'good', 'two', 'inches', 'six', 'feet', 'broad', 'shoulder', 'narrow', 'hip', 'carriage', 'trained', 'fighting', 'man', 'features', 'regular', 'clear', 'cut']\n"
     ]
    }
   ],
   "source": [
    "stories_tokens_stopped_2 = [w for w in stories_tokens_2 if not w in stop_words]\n",
    "stories_tokens_stopped_2 = [w for w in stories_tokens_stopped_2 if not w in ['gutenberg', 'tm', 'u']]\n",
    "print(stories_tokens_stopped_2[:100])"
   ]
  },
  {
   "cell_type": "code",
   "execution_count": 39,
   "metadata": {},
   "outputs": [],
   "source": [
    "stories_lemmas_pos_2 = []\n",
    "for x, y in nltk.pos_tag(stories_tokens_stopped_2):\n",
    "    stories_lemmas_pos_2.append((x, get_wordnet_pos(y)))"
   ]
  },
  {
   "cell_type": "code",
   "execution_count": 40,
   "metadata": {},
   "outputs": [],
   "source": [
    "meta_lemmaed_2 = []\n",
    "for word, pos in stories_lemmas_pos_2:\n",
    "    meta_lemmaed_2.append(lemmatizer.lemmatize(word, pos=pos))"
   ]
  },
  {
   "cell_type": "code",
   "execution_count": 41,
   "metadata": {},
   "outputs": [
    {
     "data": {
      "text/plain": [
       "[('upon', 436),\n",
       " ('one', 260),\n",
       " ('would', 221),\n",
       " ('could', 210),\n",
       " ('great', 187),\n",
       " ('dejah', 179),\n",
       " ('thoris', 177),\n",
       " ('martian', 170),\n",
       " ('warrior', 164),\n",
       " ('know', 139),\n",
       " ('u', 132),\n",
       " ('toward', 123),\n",
       " ('come', 122),\n",
       " ('little', 120),\n",
       " ('see', 118),\n",
       " ('sola', 117),\n",
       " ('work', 116),\n",
       " ('foot', 114),\n",
       " ('day', 111),\n",
       " ('time', 110),\n",
       " ('make', 105),\n",
       " ('green', 105),\n",
       " ('two', 103),\n",
       " ('helium', 103),\n",
       " ('first', 101),\n",
       " ('men', 101),\n",
       " ('city', 101),\n",
       " ('find', 96),\n",
       " ('tarkas', 96),\n",
       " ('tar', 95),\n",
       " ('say', 94),\n",
       " ('hand', 93),\n",
       " ('without', 90),\n",
       " ('man', 89),\n",
       " ('turn', 89),\n",
       " ('project', 87),\n",
       " ('leave', 85),\n",
       " ('long', 85),\n",
       " ('return', 84),\n",
       " ('reach', 84),\n",
       " ('woman', 82),\n",
       " ('take', 82),\n",
       " ('back', 79),\n",
       " ('seem', 78),\n",
       " ('may', 78),\n",
       " ('building', 78),\n",
       " ('word', 77),\n",
       " ('among', 77),\n",
       " ('dead', 77),\n",
       " ('must', 76)]"
      ]
     },
     "execution_count": 41,
     "metadata": {},
     "output_type": "execute_result"
    }
   ],
   "source": [
    "meta_freqdist_2 = FreqDist(meta_lemmaed_2)\n",
    "meta_freqdist_2.most_common(50)"
   ]
  },
  {
   "cell_type": "code",
   "execution_count": 42,
   "metadata": {},
   "outputs": [
    {
     "data": {
      "image/png": "[encoded data removed]",
      "text/plain": [
       "<Figure size 432x288 with 1 Axes>"
      ]
     },
     "metadata": {
      "needs_background": "light"
     },
     "output_type": "display_data"
    }
   ],
   "source": [
    "%matplotlib inline\n",
    "meta_freqdist_2.plot(30, cumulative=False);"
   ]
  },
  {
   "cell_type": "code",
   "execution_count": 43,
   "metadata": {},
   "outputs": [
    {
     "data": {
      "text/html": [
       "<div>\n",
       "<style scoped>\n",
       "    .dataframe tbody tr th:only-of-type {\n",
       "        vertical-align: middle;\n",
       "    }\n",
       "\n",
       "    .dataframe tbody tr th {\n",
       "        vertical-align: top;\n",
       "    }\n",
       "\n",
       "    .dataframe thead th {\n",
       "        text-align: right;\n",
       "    }\n",
       "</style>\n",
       "<table border=\"1\" class=\"dataframe\">\n",
       "  <thead>\n",
       "    <tr style=\"text-align: right;\">\n",
       "      <th></th>\n",
       "      <th>abandon</th>\n",
       "      <th>abash</th>\n",
       "      <th>abide</th>\n",
       "      <th>ability</th>\n",
       "      <th>able</th>\n",
       "      <th>ablest</th>\n",
       "      <th>aboard</th>\n",
       "      <th>abreast</th>\n",
       "      <th>abruptly</th>\n",
       "      <th>absence</th>\n",
       "      <th>...</th>\n",
       "      <th>youth</th>\n",
       "      <th>youthful</th>\n",
       "      <th>zad</th>\n",
       "      <th>zealously</th>\n",
       "      <th>zip</th>\n",
       "      <th>zitidar</th>\n",
       "      <th>zitidars</th>\n",
       "      <th>zodanga</th>\n",
       "      <th>zodangan</th>\n",
       "      <th>zodangans</th>\n",
       "    </tr>\n",
       "  </thead>\n",
       "  <tbody>\n",
       "    <tr>\n",
       "      <th>0</th>\n",
       "      <td>0</td>\n",
       "      <td>0</td>\n",
       "      <td>0</td>\n",
       "      <td>0</td>\n",
       "      <td>0</td>\n",
       "      <td>0</td>\n",
       "      <td>0</td>\n",
       "      <td>0</td>\n",
       "      <td>0</td>\n",
       "      <td>0</td>\n",
       "      <td>...</td>\n",
       "      <td>0</td>\n",
       "      <td>0</td>\n",
       "      <td>0</td>\n",
       "      <td>0</td>\n",
       "      <td>0</td>\n",
       "      <td>0</td>\n",
       "      <td>0</td>\n",
       "      <td>0</td>\n",
       "      <td>0</td>\n",
       "      <td>0</td>\n",
       "    </tr>\n",
       "    <tr>\n",
       "      <th>1</th>\n",
       "      <td>0</td>\n",
       "      <td>0</td>\n",
       "      <td>0</td>\n",
       "      <td>0</td>\n",
       "      <td>0</td>\n",
       "      <td>0</td>\n",
       "      <td>0</td>\n",
       "      <td>0</td>\n",
       "      <td>0</td>\n",
       "      <td>0</td>\n",
       "      <td>...</td>\n",
       "      <td>0</td>\n",
       "      <td>0</td>\n",
       "      <td>0</td>\n",
       "      <td>0</td>\n",
       "      <td>0</td>\n",
       "      <td>0</td>\n",
       "      <td>0</td>\n",
       "      <td>0</td>\n",
       "      <td>0</td>\n",
       "      <td>0</td>\n",
       "    </tr>\n",
       "    <tr>\n",
       "      <th>2</th>\n",
       "      <td>0</td>\n",
       "      <td>0</td>\n",
       "      <td>0</td>\n",
       "      <td>0</td>\n",
       "      <td>0</td>\n",
       "      <td>0</td>\n",
       "      <td>0</td>\n",
       "      <td>0</td>\n",
       "      <td>0</td>\n",
       "      <td>0</td>\n",
       "      <td>...</td>\n",
       "      <td>0</td>\n",
       "      <td>0</td>\n",
       "      <td>0</td>\n",
       "      <td>0</td>\n",
       "      <td>0</td>\n",
       "      <td>0</td>\n",
       "      <td>0</td>\n",
       "      <td>0</td>\n",
       "      <td>0</td>\n",
       "      <td>0</td>\n",
       "    </tr>\n",
       "    <tr>\n",
       "      <th>3</th>\n",
       "      <td>0</td>\n",
       "      <td>0</td>\n",
       "      <td>0</td>\n",
       "      <td>0</td>\n",
       "      <td>0</td>\n",
       "      <td>0</td>\n",
       "      <td>0</td>\n",
       "      <td>0</td>\n",
       "      <td>0</td>\n",
       "      <td>0</td>\n",
       "      <td>...</td>\n",
       "      <td>0</td>\n",
       "      <td>0</td>\n",
       "      <td>0</td>\n",
       "      <td>0</td>\n",
       "      <td>0</td>\n",
       "      <td>0</td>\n",
       "      <td>0</td>\n",
       "      <td>0</td>\n",
       "      <td>0</td>\n",
       "      <td>0</td>\n",
       "    </tr>\n",
       "    <tr>\n",
       "      <th>4</th>\n",
       "      <td>0</td>\n",
       "      <td>0</td>\n",
       "      <td>0</td>\n",
       "      <td>0</td>\n",
       "      <td>0</td>\n",
       "      <td>0</td>\n",
       "      <td>0</td>\n",
       "      <td>0</td>\n",
       "      <td>0</td>\n",
       "      <td>0</td>\n",
       "      <td>...</td>\n",
       "      <td>0</td>\n",
       "      <td>0</td>\n",
       "      <td>0</td>\n",
       "      <td>0</td>\n",
       "      <td>0</td>\n",
       "      <td>0</td>\n",
       "      <td>0</td>\n",
       "      <td>0</td>\n",
       "      <td>0</td>\n",
       "      <td>0</td>\n",
       "    </tr>\n",
       "  </tbody>\n",
       "</table>\n",
       "<p>5 rows × 5268 columns</p>\n",
       "</div>"
      ],
      "text/plain": [
       "   abandon  abash  abide  ability  able  ablest  aboard  abreast  abruptly  \\\n",
       "0        0      0      0        0     0       0       0        0         0   \n",
       "1        0      0      0        0     0       0       0        0         0   \n",
       "2        0      0      0        0     0       0       0        0         0   \n",
       "3        0      0      0        0     0       0       0        0         0   \n",
       "4        0      0      0        0     0       0       0        0         0   \n",
       "\n",
       "   absence  ...  youth  youthful  zad  zealously  zip  zitidar  zitidars  \\\n",
       "0        0  ...      0         0    0          0    0        0         0   \n",
       "1        0  ...      0         0    0          0    0        0         0   \n",
       "2        0  ...      0         0    0          0    0        0         0   \n",
       "3        0  ...      0         0    0          0    0        0         0   \n",
       "4        0  ...      0         0    0          0    0        0         0   \n",
       "\n",
       "   zodanga  zodangan  zodangans  \n",
       "0        0         0          0  \n",
       "1        0         0          0  \n",
       "2        0         0          0  \n",
       "3        0         0          0  \n",
       "4        0         0          0  \n",
       "\n",
       "[5 rows x 5268 columns]"
      ]
     },
     "execution_count": 43,
     "metadata": {},
     "output_type": "execute_result"
    }
   ],
   "source": [
    "cv_2 = CountVectorizer()\n",
    "cv_2.fit(meta_lemmaed_2)\n",
    "vector_doc_2 = cv_2.transform(meta_lemmaed_2)\n",
    "vector_df_2 = pd.DataFrame(vector_doc_2.toarray(), columns=cv_2.get_feature_names())\n",
    "vector_df_2.head()"
   ]
  },
  {
   "cell_type": "code",
   "execution_count": 46,
   "metadata": {},
   "outputs": [],
   "source": []
  },
  {
   "cell_type": "code",
   "execution_count": null,
   "metadata": {},
   "outputs": [],
   "source": []
  }
 ],
 "metadata": {
  "kernelspec": {
   "display_name": "Python 3",
   "language": "python",
   "name": "python3"
  },
  "language_info": {
   "codemirror_mode": {
    "name": "ipython",
    "version": 3
   },
   "file_extension": ".py",
   "mimetype": "text/x-python",
   "name": "python",
   "nbconvert_exporter": "python",
   "pygments_lexer": "ipython3",
   "version": "3.7.4"
  }
 },
 "nbformat": 4,
 "nbformat_minor": 2
}
