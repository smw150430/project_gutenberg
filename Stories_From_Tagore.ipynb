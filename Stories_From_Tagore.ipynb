{
 "cells": [
  {
   "cell_type": "code",
   "execution_count": 1,
   "metadata": {},
   "outputs": [],
   "source": [
    "import nltk\n",
    "import requests\n",
    "import sklearn"
   ]
  },
  {
   "cell_type": "code",
   "execution_count": 16,
   "metadata": {},
   "outputs": [],
   "source": [
    "resp = requests.get('https://www.gutenberg.org/files/33525/33525-0.txt')\n",
    "stories = resp.text"
   ]
  },
  {
   "cell_type": "code",
   "execution_count": 32,
   "metadata": {},
   "outputs": [
    {
     "name": "stdout",
     "output_type": "stream",
     "text": [
      "ï»¿The Project Gutenberg EBook of Stories from Tagore, by Rabindranath Tagore\r\n",
      "\r\n",
      "This eBook is for the use of anyone anywhere at no cost and with\r\n",
      "almost no restrictions whatsoever.  You may copy it, give it away or\r\n",
      "re-use it under the terms of the Project Gutenberg License included\r\n",
      "with this eBook or online at www.gutenberg.org\r\n",
      "\r\n",
      "\r\n",
      "Title: Stories from Tagore\r\n",
      "\r\n",
      "Author: Rabindranath Tagore\r\n",
      "\r\n",
      "Release Date: August 24, 2010 [EBook #33525]\r\n",
      "\r\n",
      "Language: English\r\n",
      "\r\n",
      "Character set encoding: UTF-8\r\n",
      "\r\n",
      "*** START OF THIS PROJECT GUTENBERG EBOOK STORIES FROM TAGORE ***\r\n",
      "\r\n",
      "\r\n",
      "\r\n",
      "\r\n",
      "Produced by Audrey Longhurst, Asad Razzaki and the Online\r\n",
      "Distributed Proofreading Team at http://www.pgdp.net\r\n",
      "\r\n",
      "\r\n",
      "\r\n",
      "\r\n",
      "\r\n",
      "Transcriber's Note:\r\n",
      "\r\n",
      "\r\n",
      "  Variations in spelling and hyphenation have been retained as in\r\n",
      "    the original.\r\n",
      "\r\n",
      "  A few typographical errors have been corrected. A complete list\r\n",
      "    follows the text.\r\n",
      "\r\n",
      "  Words italicized in the original are surrounded by _underscores_.\r\n",
      "\r\n",
      "  Words with bold emphasis in the original are surrounded by =equals\r\n",
      "    signs=.\r\n",
      "\r\n",
      "\r\n",
      "\r\n",
      "\r\n",
      "             STORIES FROM TAGORE\r\n",
      "\r\n",
      "\r\n",
      "               [Illustration]\r\n",
      "\r\n",
      "            THE MACMILLAN COMPANY\r\n",
      "\r\n",
      "      NEW YORK Â· BOSTON Â· CHICAGO Â· DALLAS\r\n",
      "           ATLANTA Â· SAN FRANCISCO\r\n",
      "\r\n",
      "           MACMILLAN & CO., LIMITED\r\n",
      "\r\n",
      "          LONDON Â· BOMBAY Â· CALCUTTA\r\n",
      "                 MELBOURNE\r\n",
      "\r\n",
      "        THE MACMILLAN CO. OF CANADA, LTD.\r\n",
      "\r\n",
      "                  TORONTO\r\n",
      "\r\n",
      "\r\n",
      "\r\n",
      "\r\n",
      "              Stories from Tagore\r\n",
      "\r\n",
      "\r\n",
      "                   New York\r\n",
      "             The Macmillan Company\r\n",
      "                     1918\r\n",
      "\r\n",
      "             _All rights reserved_\r\n",
      "\r\n",
      "\r\n",
      "            Copyright 1916 and 1918\r\n",
      "            BY THE MACMILLAN COMPANY\r\n",
      "\r\n",
      "  Set up and electrotyped. Published, October, 1918\r\n",
      "\r\n",
      "\r\n",
      "\r\n",
      "\r\n",
      "\n"
     ]
    }
   ],
   "source": [
    "print(stories[:1760])"
   ]
  },
  {
   "cell_type": "code",
   "execution_count": 33,
   "metadata": {},
   "outputs": [
    {
     "name": "stdout",
     "output_type": "stream",
     "text": [
      "PREFACE\r\n",
      "\r\n",
      "\r\n",
      "Every experienced teacher must have noticed the difficulty of\r\n",
      "instructing Indian children out of books that are specially intended for\r\n",
      "use in English schools. It is not merely that the subjects are\r\n",
      "unfamiliar, but almost eve\n"
     ]
    }
   ],
   "source": [
    "print(stories[1760:2000])"
   ]
  },
  {
   "cell_type": "code",
   "execution_count": 34,
   "metadata": {},
   "outputs": [
    {
     "name": "stdout",
     "output_type": "stream",
     "text": [
      "['PREFACE', 'Every', 'experienced', 'teacher', 'must', 'have', 'noticed', 'the', 'difficulty', 'of', 'instructing', 'Indian', 'children', 'out', 'of', 'books', 'that', 'are', 'specially', 'intended', 'for', 'use', 'in', 'English', 'schools', 'It', 'is', 'not', 'merely', 'that', 'the', 'subjects', 'are', 'unfamiliar', 'but', 'almost', 'every', 'phrase', 'has', 'English', 'associations', 'that', 'are', 'strange', 'to', 'Indian', 'ears', 'The', 'environment', 'in', 'which', 'they', 'are', 'written', 'is', 'unknown', 'to', 'the', 'Indian', 'school', 'boy', 'and', 'his', 'mind', 'becomes', 'overburdened', 'with', 'its', 'details', 'which', 'he', 'fails', 'to', 'understand', 'He', 'cannot', 'give', 'his', 'whole', 'attention', 'to', 'the', 'language', 'and', 'thus', 'master', 'it', 'quickly', 'The', 'present', 'Indian', 'story', 'book', 'avoids', 'some', 'at', 'least', 'of', 'these', 'impediments']\n"
     ]
    }
   ],
   "source": [
    "pattern = \"([a-zA-Z]+(?:'[a-z]+)?)\"\n",
    "stories_tokens_raw = nltk.regexp_tokenize(stories[1760:], pattern)\n",
    "print(stories_tokens_raw[:100])"
   ]
  },
  {
   "cell_type": "code",
   "execution_count": null,
   "metadata": {},
   "outputs": [],
   "source": []
  }
 ],
 "metadata": {
  "kernelspec": {
   "display_name": "Python 3",
   "language": "python",
   "name": "python3"
  },
  "language_info": {
   "codemirror_mode": {
    "name": "ipython",
    "version": 3
   },
   "file_extension": ".py",
   "mimetype": "text/x-python",
   "name": "python",
   "nbconvert_exporter": "python",
   "pygments_lexer": "ipython3",
   "version": "3.7.4"
  }
 },
 "nbformat": 4,
 "nbformat_minor": 2
}
